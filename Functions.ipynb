{
 "cells": [
  {
   "cell_type": "markdown",
   "metadata": {},
   "source": [
    "### Functions\n",
    "* 'def' we are about to define a function"
   ]
  },
  {
   "cell_type": "code",
   "execution_count": 5,
   "metadata": {},
   "outputs": [
    {
     "name": "stdout",
     "output_type": "stream",
     "text": [
      "Hello\n"
     ]
    }
   ],
   "source": [
    "def say_hello():\n",
    "    print('Hello')\n",
    "say_hello()"
   ]
  },
  {
   "cell_type": "markdown",
   "metadata": {},
   "source": [
    "### Arguments vs parameters"
   ]
  },
  {
   "cell_type": "code",
   "execution_count": 11,
   "metadata": {},
   "outputs": [
    {
     "name": "stdout",
     "output_type": "stream",
     "text": [
      "Hello Bhuma 😜\n",
      "Hello Saishri 😘\n"
     ]
    }
   ],
   "source": [
    "def say_hello(name,emoji): #name and emoji are parameters\n",
    "    print(f'Hello {name} {emoji}')\n",
    "say_hello('Bhuma','😜') #bhuma and :p are parameters \"windws + ;\" to insert emojis\n",
    "say_hello('Saishri','😘')"
   ]
  },
  {
   "cell_type": "markdown",
   "metadata": {},
   "source": [
    "### Default parameters vs Keyword Arguments"
   ]
  },
  {
   "cell_type": "code",
   "execution_count": 13,
   "metadata": {},
   "outputs": [
    {
     "name": "stdout",
     "output_type": "stream",
     "text": [
      "Hello Bhuma 😊\n"
     ]
    }
   ],
   "source": [
    "say_hello(emoji='😊', name='Bhuma') # Keyword Arguments"
   ]
  },
  {
   "cell_type": "code",
   "execution_count": 15,
   "metadata": {},
   "outputs": [
    {
     "name": "stdout",
     "output_type": "stream",
     "text": [
      "Hello Bhuma 👌\n",
      "Hello Saishri 💕\n"
     ]
    }
   ],
   "source": [
    "def hello(name='Bhuma',emoji='👌'): # Default parameters\n",
    "    print(f'Hello {name} {emoji}')\n",
    "hello()\n",
    "hello('Saishri','💕')"
   ]
  },
  {
   "cell_type": "markdown",
   "metadata": {},
   "source": [
    "### return "
   ]
  },
  {
   "cell_type": "code",
   "execution_count": null,
   "metadata": {},
   "outputs": [],
   "source": [
    "def sum(num1,num2):\n",
    "    return num1+num2\n",
    "def sum(num1,num2,num3):\n",
    "    return num1+num2-num3\n",
    "print(sum(1,2,3))\n",
    "print(sum(4,5))"
   ]
  },
  {
   "cell_type": "markdown",
   "metadata": {},
   "source": [
    "### Nested Functions"
   ]
  },
  {
   "cell_type": "code",
   "execution_count": 21,
   "metadata": {},
   "outputs": [
    {
     "name": "stdout",
     "output_type": "stream",
     "text": [
      "31\n"
     ]
    }
   ],
   "source": [
    "def sum(num1, num2):\n",
    "    def another_func(n1,n2):\n",
    "        return n1+n2\n",
    "    return another_func(num1,num2)\n",
    "print(sum(10,21))"
   ]
  },
  {
   "cell_type": "code",
   "execution_count": 24,
   "metadata": {},
   "outputs": [
    {
     "name": "stdout",
     "output_type": "stream",
     "text": [
      "Powering On. Enjoy the ride!\n"
     ]
    }
   ],
   "source": [
    "def checkDriverAge(age=0):\n",
    "    if int(age) < 18:\n",
    "        print(\"Sorry, you are too young to drive this car. Powering off\")\n",
    "    elif int(age) > 18:\n",
    "        print(\"Powering On. Enjoy the ride!\");\n",
    "    elif int(age) == 18:\n",
    "        print(\"Congratulations on your first year of driving. Enjoy the ride!\")\n",
    "checkDriverAge(92)"
   ]
  },
  {
   "cell_type": "markdown",
   "metadata": {},
   "source": [
    "### Methods vs Functions\n",
    "* after '.' all are methods "
   ]
  },
  {
   "cell_type": "markdown",
   "metadata": {},
   "source": [
    "### Docstring"
   ]
  },
  {
   "cell_type": "code",
   "execution_count": 27,
   "metadata": {},
   "outputs": [
    {
     "name": "stdout",
     "output_type": "stream",
     "text": [
      "!!!\n",
      "Help on function test in module __main__:\n",
      "\n",
      "test(a)\n",
      "    Info: This function tests and prints param a\n",
      "\n"
     ]
    }
   ],
   "source": [
    "def test(a):\n",
    "    '''\n",
    "    Info: This function tests and prints param a\n",
    "    '''\n",
    "    print(a)\n",
    "test('!!!')\n",
    "help(test)"
   ]
  },
  {
   "cell_type": "code",
   "execution_count": 29,
   "metadata": {},
   "outputs": [
    {
     "name": "stdout",
     "output_type": "stream",
     "text": [
      "False\n"
     ]
    }
   ],
   "source": [
    "def is_even(num):\n",
    "    return num%2==0\n",
    "print(is_even(51))"
   ]
  },
  {
   "cell_type": "markdown",
   "metadata": {},
   "source": [
    "### args and kwargs\n",
    "* inside '*args elements store in the form of tuple\n",
    "* inside '**kwargs' elements stores as dictionary\n",
    "* order: params, *args, default parameters, **kwargs"
   ]
  },
  {
   "cell_type": "code",
   "execution_count": 36,
   "metadata": {},
   "outputs": [
    {
     "name": "stdout",
     "output_type": "stream",
     "text": [
      "1 2 3 4 5\n",
      "(1, 2, 3, 4, 5)\n"
     ]
    }
   ],
   "source": [
    "def super_fun(*args):\n",
    "    print(*args)\n",
    "    print(args)\n",
    "super_fun(1,2,3,4,5)"
   ]
  },
  {
   "cell_type": "code",
   "execution_count": 39,
   "metadata": {},
   "outputs": [
    {
     "name": "stdout",
     "output_type": "stream",
     "text": [
      "{'num1': 4, 'num2': 4}\n",
      "8\n",
      "(1, 2, 3, 4)\n"
     ]
    }
   ],
   "source": [
    "def super_func (*args,**kwargs):\n",
    "    print(kwargs)\n",
    "    total =0\n",
    "    for values in kwargs.values():\n",
    "        total+=values\n",
    "    print(total)\n",
    "    print(args)\n",
    "super_func(1,2,3,4,num1=4,num2=4)"
   ]
  },
  {
   "cell_type": "code",
   "execution_count": 41,
   "metadata": {},
   "outputs": [
    {
     "name": "stdout",
     "output_type": "stream",
     "text": [
      "10\n"
     ]
    }
   ],
   "source": [
    "def highest_even(li):\n",
    "    highest = 0\n",
    "    for value in li:\n",
    "        if value%2 ==0 and value > highest:\n",
    "            highest = value\n",
    "    return highest\n",
    "print(highest_even([1,2,3,10,11]))"
   ]
  },
  {
   "cell_type": "code",
   "execution_count": null,
   "metadata": {},
   "outputs": [],
   "source": []
  }
 ],
 "metadata": {
  "kernelspec": {
   "display_name": "Python 3",
   "language": "python",
   "name": "python3"
  },
  "language_info": {
   "codemirror_mode": {
    "name": "ipython",
    "version": 3
   },
   "file_extension": ".py",
   "mimetype": "text/x-python",
   "name": "python",
   "nbconvert_exporter": "python",
   "pygments_lexer": "ipython3",
   "version": "3.7.3"
  }
 },
 "nbformat": 4,
 "nbformat_minor": 4
}
