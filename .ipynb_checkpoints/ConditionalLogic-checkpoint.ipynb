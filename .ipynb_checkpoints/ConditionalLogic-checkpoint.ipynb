{
 "cells": [
  {
   "cell_type": "markdown",
   "metadata": {},
   "source": [
    "### ConditionalLogic"
   ]
  },
  {
   "cell_type": "code",
   "execution_count": 5,
   "metadata": {},
   "outputs": [
    {
     "name": "stdout",
     "output_type": "stream",
     "text": [
      "You are old enough to drive!\n",
      "checkcheck\n"
     ]
    }
   ],
   "source": [
    "is_old = True\n",
    "is_licensed = True\n",
    "if is_old:\n",
    "    print(\"You are old enough to drive!\")\n",
    "elif is_licensed:\n",
    "    print(\"You can drive now\")\n",
    "else:\n",
    "    print(\"You are not old enough to drive!\")\n",
    "print('checkcheck')"
   ]
  },
  {
   "cell_type": "code",
   "execution_count": 7,
   "metadata": {},
   "outputs": [
    {
     "name": "stdout",
     "output_type": "stream",
     "text": [
      "You are old enough to drive and you have a license\n"
     ]
    }
   ],
   "source": [
    "if is_old and is_licensed:\n",
    "    print(\"You are old enough to drive and you have a license\")\n",
    "else:\n",
    "    print(\"You are not of age\")"
   ]
  },
  {
   "cell_type": "markdown",
   "metadata": {},
   "source": [
    "### Indendation in Python"
   ]
  },
  {
   "cell_type": "markdown",
   "metadata": {},
   "source": [
    "### Truthy and Falsy"
   ]
  },
  {
   "cell_type": "code",
   "execution_count": 10,
   "metadata": {},
   "outputs": [
    {
     "name": "stdout",
     "output_type": "stream",
     "text": [
      "True True\n",
      "You are old enough to drive!\n",
      "checkcheck\n"
     ]
    }
   ],
   "source": [
    "is_old = \"Hello\"\n",
    "is_licensed = 5\n",
    "print(bool(is_old), bool(is_licensed))\n",
    "if is_old:\n",
    "    print(\"You are old enough to drive!\")\n",
    "elif is_licensed:\n",
    "    print(\"You can drive now\")\n",
    "else:\n",
    "    print(\"You are not old enough to drive!\")\n",
    "print('checkcheck')"
   ]
  },
  {
   "cell_type": "markdown",
   "metadata": {},
   "source": [
    "### Ternary operator"
   ]
  },
  {
   "cell_type": "code",
   "execution_count": 12,
   "metadata": {},
   "outputs": [
    {
     "name": "stdout",
     "output_type": "stream",
     "text": [
      "not allowed to message\n"
     ]
    }
   ],
   "source": [
    "is_friend = False\n",
    "can_message = \"message allowed\" if is_friend else \"not allowed to message\"\n",
    "print(can_message)"
   ]
  },
  {
   "cell_type": "markdown",
   "metadata": {},
   "source": [
    "### Short circuting"
   ]
  },
  {
   "cell_type": "markdown",
   "metadata": {},
   "source": [
    "* exp1 and exp2 ---> if exp1 is False it will not execute the exp2\n",
    "* exp1 or exp2  ---> if exp1 is True it will not execute the exp2"
   ]
  },
  {
   "cell_type": "markdown",
   "metadata": {},
   "source": [
    "### Logical Operators"
   ]
  },
  {
   "cell_type": "markdown",
   "metadata": {},
   "source": [
    "* '>' ,'<',==,>=,<=,!=,and,or,not"
   ]
  },
  {
   "cell_type": "code",
   "execution_count": 28,
   "metadata": {},
   "outputs": [
    {
     "name": "stdout",
     "output_type": "stream",
     "text": [
      "atleast you're getting there\n"
     ]
    }
   ],
   "source": [
    "is_magician = True\n",
    "is_expert = False\n",
    "if is_magician and is_expert:\n",
    "    print(\"You are a master magician\")\n",
    "elif is_magician:\n",
    "    print(\"atleast you\\'re getting there\")\n",
    "elif not is_magician:\n",
    "    print(\"You need magic powers\")"
   ]
  },
  {
   "cell_type": "markdown",
   "metadata": {},
   "source": [
    "### is vs =="
   ]
  },
  {
   "cell_type": "code",
   "execution_count": 34,
   "metadata": {},
   "outputs": [
    {
     "name": "stdout",
     "output_type": "stream",
     "text": [
      "True\n",
      "False\n",
      "False\n",
      "True\n",
      "True\n"
     ]
    }
   ],
   "source": [
    "print(True ==1 ) #True\n",
    "print(''==1 ) #False\n",
    "print([] ==1 ) #False\n",
    "print(10 == 10.0 ) #True\n",
    "print([] ==[] ) #True"
   ]
  },
  {
   "cell_type": "code",
   "execution_count": 35,
   "metadata": {},
   "outputs": [
    {
     "name": "stdout",
     "output_type": "stream",
     "text": [
      "False\n",
      "False\n",
      "False\n",
      "False\n",
      "False\n"
     ]
    }
   ],
   "source": [
    "print(True is 1 ) #True\n",
    "print('' is 1 ) #False\n",
    "print([]  is 1 ) #False\n",
    "print(10 is 10.0 ) #True\n",
    "print([] is [] ) #True"
   ]
  },
  {
   "cell_type": "markdown",
   "metadata": {},
   "source": [
    "* \"==\" checks for the equality and value\n",
    "* is check the memory of location"
   ]
  },
  {
   "cell_type": "code",
   "execution_count": 39,
   "metadata": {},
   "outputs": [
    {
     "name": "stdout",
     "output_type": "stream",
     "text": [
      "True\n",
      "True\n"
     ]
    }
   ],
   "source": [
    "a = (1,2,3)\n",
    "b = a\n",
    "print(a is b)\n"
   ]
  },
  {
   "cell_type": "code",
   "execution_count": null,
   "metadata": {},
   "outputs": [],
   "source": []
  }
 ],
 "metadata": {
  "kernelspec": {
   "display_name": "Python 3",
   "language": "python",
   "name": "python3"
  },
  "language_info": {
   "codemirror_mode": {
    "name": "ipython",
    "version": 3
   },
   "file_extension": ".py",
   "mimetype": "text/x-python",
   "name": "python",
   "nbconvert_exporter": "python",
   "pygments_lexer": "ipython3",
   "version": "3.7.3"
  }
 },
 "nbformat": 4,
 "nbformat_minor": 4
}
