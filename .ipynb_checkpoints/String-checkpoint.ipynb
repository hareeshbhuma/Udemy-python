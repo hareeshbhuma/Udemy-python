{
 "cells": [
  {
   "cell_type": "code",
   "execution_count": 1,
   "metadata": {},
   "outputs": [
    {
     "name": "stdout",
     "output_type": "stream",
     "text": [
      "<class 'str'>\n",
      "wow\n",
      "00\n",
      "--------\n",
      "\n"
     ]
    }
   ],
   "source": [
    "print(type('hi hello there. 24!'))\n",
    "username = 'supercoder'\n",
    "password = 'supersecret'\n",
    "long_string = '''wow\n",
    "00\n",
    "--------\n",
    "'''\n",
    "print(long_string)"
   ]
  },
  {
   "cell_type": "code",
   "execution_count": 14,
   "metadata": {},
   "outputs": [
    {
     "name": "stdout",
     "output_type": "stream",
     "text": [
      "Bhuma Hareesh\n",
      "BhumaBhumaBhuma\n"
     ]
    }
   ],
   "source": [
    "first_name = \"Bhuma\"\n",
    "last_name = \"Hareesh\"\n",
    "full_name = first_name+\" \"+last_name\n",
    "print(full_name)\n",
    "print('Bhuma'*3)"
   ]
  },
  {
   "cell_type": "markdown",
   "metadata": {},
   "source": [
    "* String concatenation only works with strings"
   ]
  },
  {
   "cell_type": "markdown",
   "metadata": {},
   "source": [
    "### Type conversion "
   ]
  },
  {
   "cell_type": "code",
   "execution_count": 4,
   "metadata": {},
   "outputs": [
    {
     "name": "stdout",
     "output_type": "stream",
     "text": [
      "<class 'int'>\n"
     ]
    }
   ],
   "source": [
    "a = str(100)\n",
    "b = int(a)\n",
    "c = type(b)\n",
    "print(c)"
   ]
  },
  {
   "cell_type": "markdown",
   "metadata": {},
   "source": [
    "### Escape sequence"
   ]
  },
  {
   "cell_type": "code",
   "execution_count": 11,
   "metadata": {},
   "outputs": [
    {
     "name": "stdout",
     "output_type": "stream",
     "text": [
      "It's sunny\n",
      "\tIt's \"kind of sunny\"\n",
      "\n",
      "It's \"kind of sunny\"\n",
      "\tIn my 2nd sem worked as GA for \"C#.Net\"\n",
      "\tSummer sem worked as GA for \"DV\"\n",
      "\tIn my last sem also goingto work as GA for \"DV\"\n"
     ]
    }
   ],
   "source": [
    "weather = 'It\\'s sunny'\n",
    "print(weather)\n",
    "MO_Weather = '\\tIt\\'s \\\"kind of sunny\\\"'\n",
    "print(MO_Weather)\n",
    "MO_Weather = '\\nIt\\'s \\\"kind of sunny\\\"'\n",
    "print(MO_Weather)\n",
    "print(\"\\tIn my 2nd sem worked as GA for \\\"C#.Net\\\"\\n\\tSummer sem worked as GA for \\\"DV\\\"\\n\\tIn my last sem also goingto work as GA for \\\"DV\\\"\")"
   ]
  },
  {
   "cell_type": "markdown",
   "metadata": {},
   "source": [
    "### Formatted strings"
   ]
  },
  {
   "cell_type": "code",
   "execution_count": 20,
   "metadata": {},
   "outputs": [
    {
     "name": "stdout",
     "output_type": "stream",
     "text": [
      "my full name is Bhuma Hareesh and i'm 25 years old\n",
      "my full name is Bhuma Hareesh and i'm 25 years old\n",
      "my full name is Bhuma Hareesh and i'm 25 years old\n",
      "my full name is Bhuma and i'm 30 years old\n"
     ]
    }
   ],
   "source": [
    "full_name = \"Bhuma Hareesh\"\n",
    "age = 25\n",
    "print(f\"my full name is {full_name} and i'm {age} years old\")\n",
    "print(\"my full name is {} and i'm {} years old\".format(full_name,age))\n",
    "print(\"my full name is {0} and i'm {1} years old\".format(full_name,age))\n",
    "print(\"my full name is {full_name} and i'm {age} years old\".format(full_name=\"Bhuma\",age=30))"
   ]
  },
  {
   "cell_type": "code",
   "execution_count": 23,
   "metadata": {},
   "outputs": [
    {
     "name": "stdout",
     "output_type": "stream",
     "text": [
      "Hello Cindy, your balance is 50.\n",
      "Hello Cindy, your balance is 50.\n",
      "Hello Cindy, your balance is 50.\n",
      "Hello Cindy, your balance is 50.\n",
      "Hello cindy, your balance is 50\n"
     ]
    }
   ],
   "source": [
    "print(\"Hello {}, your balance is {}.\".format(\"Cindy\", 50))\n",
    "\n",
    "print(\"Hello {0}, your balance is {1}.\".format(\"Cindy\", 50))\n",
    "\n",
    "print(\"Hello {name}, your balance is {amount}.\".format(name=\"Cindy\", amount=50))\n",
    "\n",
    "print(\"Hello {0}, your balance is {amount}.\".format(\"Cindy\", amount=50))\n",
    "\n",
    "name = \"cindy\"\n",
    "balance = 50\n",
    "print(f\"Hello {name}, your balance is {balance}\")"
   ]
  },
  {
   "cell_type": "markdown",
   "metadata": {},
   "source": [
    "### String Indexes"
   ]
  },
  {
   "cell_type": "markdown",
   "metadata": {},
   "source": [
    "* [Start:Stop:Stepover] \n",
    "* By default stepover is 1"
   ]
  },
  {
   "cell_type": "code",
   "execution_count": 24,
   "metadata": {},
   "outputs": [
    {
     "name": "stdout",
     "output_type": "stream",
     "text": [
      "me me me\n",
      "me me me\n",
      "em em em\n",
      "em em \n"
     ]
    }
   ],
   "source": [
    "selfish =\"me me me\"\n",
    "print(selfish[0:])\n",
    "print(selfish[::])\n",
    "print(selfish[::-1])\n",
    "print(selfish[-1:1:-1])"
   ]
  },
  {
   "cell_type": "code",
   "execution_count": 25,
   "metadata": {},
   "outputs": [
    {
     "name": "stdout",
     "output_type": "stream",
     "text": [
      " am\n",
      " am PYHTON\n",
      "I am PYHTON\n",
      " am PYHTON\n",
      "N\n",
      "H\n",
      "I am PYH\n",
      "TON\n",
      "NOTHYP ma I\n"
     ]
    }
   ],
   "source": [
    "python = 'I am PYHTON'\n",
    "\n",
    "print(python[1:4])\n",
    "print(python[1:])\n",
    "print(python[:])\n",
    "print(python[1:100])\n",
    "print(python[-1])\n",
    "print(python[-4])\n",
    "print(python[:-3])\n",
    "print(python[-3:])\n",
    "print(python[::-1])"
   ]
  },
  {
   "cell_type": "markdown",
   "metadata": {},
   "source": [
    "### Immutability\n",
    "* String in python are Immutable they can't change"
   ]
  },
  {
   "cell_type": "code",
   "execution_count": 27,
   "metadata": {},
   "outputs": [
    {
     "ename": "TypeError",
     "evalue": "'str' object does not support item assignment",
     "output_type": "error",
     "traceback": [
      "\u001b[1;31m---------------------------------------------------------------------------\u001b[0m",
      "\u001b[1;31mTypeError\u001b[0m                                 Traceback (most recent call last)",
      "\u001b[1;32m<ipython-input-27-31b62ec8e030>\u001b[0m in \u001b[0;36m<module>\u001b[1;34m\u001b[0m\n\u001b[0;32m      1\u001b[0m \u001b[0mname\u001b[0m \u001b[1;33m=\u001b[0m \u001b[1;34m\"hareesh\"\u001b[0m\u001b[1;33m\u001b[0m\u001b[1;33m\u001b[0m\u001b[0m\n\u001b[1;32m----> 2\u001b[1;33m \u001b[0mname\u001b[0m\u001b[1;33m[\u001b[0m\u001b[1;36m0\u001b[0m\u001b[1;33m]\u001b[0m \u001b[1;33m=\u001b[0m \u001b[1;34m\"B\"\u001b[0m\u001b[1;33m\u001b[0m\u001b[1;33m\u001b[0m\u001b[0m\n\u001b[0m\u001b[0;32m      3\u001b[0m \u001b[0mprint\u001b[0m\u001b[1;33m(\u001b[0m\u001b[0mname\u001b[0m\u001b[1;33m)\u001b[0m \u001b[1;31m# The only way to cahnge the string is completly reassign the value\u001b[0m\u001b[1;33m\u001b[0m\u001b[1;33m\u001b[0m\u001b[0m\n",
      "\u001b[1;31mTypeError\u001b[0m: 'str' object does not support item assignment"
     ]
    }
   ],
   "source": [
    "name = \"hareesh\"\n",
    "name[0] = \"B\"\n",
    "print(name) # The only way to cahnge the string is completly reassign the value"
   ]
  },
  {
   "cell_type": "markdown",
   "metadata": {},
   "source": [
    "### Built-In functions + Methods\n",
    "* .format() is a method\n",
    "* Print(), len() are built-in functions"
   ]
  },
  {
   "cell_type": "code",
   "execution_count": 35,
   "metadata": {},
   "outputs": [
    {
     "name": "stdout",
     "output_type": "stream",
     "text": [
      "TO BE OR NOT TO BE\n",
      "To be or not to be\n",
      "ob rntt e\n",
      "to be or not to be\n",
      "3\n",
      "to\tbe\tor\tnot\tto\tbe\n",
      "to be or not to be\n",
      "True\n"
     ]
    }
   ],
   "source": [
    "quote = \"to be or not to be\"\n",
    "print(quote.upper())\n",
    "print(quote.capitalize())\n",
    "print(quote[1:len(quote):2])\n",
    "print(quote.lower())\n",
    "print(quote.find('b'))\n",
    "print(quote.replace(' ','\\t'))\n",
    "print(quote)\n",
    "print(quote.islower())"
   ]
  },
  {
   "cell_type": "markdown",
   "metadata": {},
   "source": [
    "### Booleans\n",
    "* True\n",
    "* False\n",
    "* Booleans will be used to control our programms"
   ]
  },
  {
   "cell_type": "code",
   "execution_count": 42,
   "metadata": {},
   "outputs": [
    {
     "name": "stdout",
     "output_type": "stream",
     "text": [
      "True\n",
      "False\n"
     ]
    }
   ],
   "source": [
    "name = \"Bhuma\"\n",
    "is_cool = True\n",
    "print(bool(1))\n",
    "print(bool(0))"
   ]
  },
  {
   "cell_type": "markdown",
   "metadata": {},
   "source": [
    "### Excercise "
   ]
  },
  {
   "cell_type": "code",
   "execution_count": 45,
   "metadata": {},
   "outputs": [
    {
     "name": "stdin",
     "output_type": "stream",
     "text": [
      "what year you were born 1994\n"
     ]
    },
    {
     "name": "stdout",
     "output_type": "stream",
     "text": [
      "Hello your age is 26\n"
     ]
    }
   ],
   "source": [
    "birth_year = int(input(\"what year you were born\"))\n",
    "age = 2020 - birth_year\n",
    "print(f\"Hello your age is {age}\")"
   ]
  },
  {
   "cell_type": "code",
   "execution_count": 46,
   "metadata": {},
   "outputs": [
    {
     "name": "stdout",
     "output_type": "stream",
     "text": [
      "Hello your age is 2019\n"
     ]
    }
   ],
   "source": [
    "age = 2020 - bool(birth_year)\n",
    "print(f\"Hello your age is {age}\")"
   ]
  },
  {
   "cell_type": "code",
   "execution_count": null,
   "metadata": {},
   "outputs": [],
   "source": []
  }
 ],
 "metadata": {
  "kernelspec": {
   "display_name": "Python 3",
   "language": "python",
   "name": "python3"
  },
  "language_info": {
   "codemirror_mode": {
    "name": "ipython",
    "version": 3
   },
   "file_extension": ".py",
   "mimetype": "text/x-python",
   "name": "python",
   "nbconvert_exporter": "python",
   "pygments_lexer": "ipython3",
   "version": "3.7.3"
  }
 },
 "nbformat": 4,
 "nbformat_minor": 4
}
