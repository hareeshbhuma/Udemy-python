{
 "cells": [
  {
   "cell_type": "markdown",
   "metadata": {},
   "source": [
    "### List\n",
    "* List is a ordered sequence of elemenents of any data type\n",
    "* In Python there is no concept of arrays.\n",
    "* List is a form of array"
   ]
  },
  {
   "cell_type": "code",
   "execution_count": 5,
   "metadata": {},
   "outputs": [
    {
     "name": "stdout",
     "output_type": "stream",
     "text": [
      "['gun', 'sunglasses', 'toys', 'grapes']\n",
      "['gun', 'sunglasses', 'toys', 'grapes']\n",
      "['cakes', 'sunglasses', 'toys', 'grapes']\n",
      "['gun', 'sunglasses', 'toys', 'grapes']\n"
     ]
    }
   ],
   "source": [
    "li1 = [1,2,3]\n",
    "li2 = ['a','b','c']\n",
    "li3 = [1,2,'a','b',True]\n",
    "amazon_cart = ['notebooks','sunglasses','toys','grapes']\n",
    "amazon_cart[0] = 'laptop'\n",
    "new_cart = amazon_cart\n",
    "new_cart[0] = 'gun'\n",
    "print(new_cart)\n",
    "print(amazon_cart)\n",
    "new_cart = amazon_cart[:]\n",
    "new_cart[0] = 'cakes'\n",
    "print(new_cart)\n",
    "print(amazon_cart)"
   ]
  },
  {
   "cell_type": "code",
   "execution_count": 6,
   "metadata": {},
   "outputs": [
    {
     "name": "stdout",
     "output_type": "stream",
     "text": [
      "b\n",
      "b\n",
      "['b', 'c']\n",
      "['z', 'b', 'c']\n",
      "['z', 2, 3]\n",
      "[1, 2, 3, 5]\n"
     ]
    }
   ],
   "source": [
    "new_list = ['a', 'b', 'c']\n",
    "print(new_list[1]) #b\n",
    "print(new_list[-2]) #b\n",
    "print(new_list[1:3]) #['b','c']\n",
    "new_list[0] = 'z' \n",
    "print(new_list) #['z','b','c']\n",
    "\n",
    "my_list = [1,2,3]\n",
    "bonus = my_list + [5]\n",
    "my_list[0] = 'z'\n",
    "print(my_list) #['z',2,3]\n",
    "print(bonus) #[1,2,3,5]"
   ]
  },
  {
   "cell_type": "markdown",
   "metadata": {},
   "source": [
    "### Matrix\n",
    "* Matrix is a way to describe multi-dimensional list"
   ]
  },
  {
   "cell_type": "code",
   "execution_count": 7,
   "metadata": {},
   "outputs": [
    {
     "name": "stdout",
     "output_type": "stream",
     "text": [
      "2\n"
     ]
    }
   ],
   "source": [
    "matrix = [\n",
    "    [1,2,3],\n",
    "    [4,5,6],\n",
    "    [7,8,9]\n",
    "]\n",
    "print(matrix[0][1])"
   ]
  },
  {
   "cell_type": "code",
   "execution_count": 19,
   "metadata": {},
   "outputs": [
    {
     "name": "stdout",
     "output_type": "stream",
     "text": [
      "Oranges\n"
     ]
    }
   ],
   "source": [
    "basket = [\n",
    "    \"Banana\", \n",
    "    [\"Apples\", \n",
    "    [\"Oranges\"], \n",
    "    \"Blueberries\"]\n",
    "];\n",
    "print(basket[1][1][0])"
   ]
  },
  {
   "cell_type": "markdown",
   "metadata": {},
   "source": [
    "### List methods"
   ]
  },
  {
   "cell_type": "code",
   "execution_count": 33,
   "metadata": {},
   "outputs": [
    {
     "name": "stdout",
     "output_type": "stream",
     "text": [
      "[2, 3, 4, 5, 6, 100]\n"
     ]
    }
   ],
   "source": [
    "basket = [1,2,3,4,5]\n",
    "basket.append(6)\n",
    "basket.insert(3,100)\n",
    "basket.extend([100,101])\n",
    "basket.pop()\n",
    "basket.pop(0)\n",
    "basket.remove(100)\n",
    "print(basket)"
   ]
  },
  {
   "cell_type": "markdown",
   "metadata": {},
   "source": [
    "* append will add entire list at the end as a single element\n",
    "* Extend will add entire list at the end as a different elements\n",
    "* pop() will take positio, return and removes the element present at that particular location, By default it will remove the last elemet \n",
    "* remove() will take the value and remove the values in the list. It will return None\n",
    "* clear() will remove all the elements in the list"
   ]
  },
  {
   "cell_type": "code",
   "execution_count": 40,
   "metadata": {},
   "outputs": [
    {
     "name": "stdout",
     "output_type": "stream",
     "text": [
      "2\n",
      "3\n",
      "True\n",
      "False\n",
      "2\n"
     ]
    }
   ],
   "source": [
    "basket = ['a','b','c','c','d']\n",
    "print(basket.index('c'))\n",
    "print(basket.index('c',3))\n",
    "print('c' in basket)\n",
    "print('x' in basket)\n",
    "print(basket.count('c'))"
   ]
  },
  {
   "cell_type": "code",
   "execution_count": 43,
   "metadata": {},
   "outputs": [
    {
     "name": "stdout",
     "output_type": "stream",
     "text": [
      "2\n",
      "[]\n"
     ]
    }
   ],
   "source": [
    "basket = [\"Banana\", \"Apples\", \"Oranges\", \"Blueberries\"];\n",
    "basket.remove('Banana')\n",
    "basket.remove('Blueberries')\n",
    "basket.append('Kiwi')\n",
    "basket.insert(0,'Apples')\n",
    "print(basket.count('Apples'))\n",
    "basket.clear()\n",
    "print(basket)"
   ]
  },
  {
   "cell_type": "code",
   "execution_count": 45,
   "metadata": {},
   "outputs": [
    {
     "name": "stdout",
     "output_type": "stream",
     "text": [
      "['a', 'a', 'b', 'c', 'd', 'f', 'x']\n",
      "['a', 'b', 'c', 'x', 'd', 'f', 'a']\n",
      "None\n",
      "['a', 'a', 'b', 'c', 'd', 'f', 'x']\n"
     ]
    }
   ],
   "source": [
    "basket = ['a','b','c','x','d','f','a']\n",
    "print(sorted(basket))\n",
    "print(basket)\n",
    "basket.sort()\n",
    "print(basket)"
   ]
  },
  {
   "cell_type": "markdown",
   "metadata": {},
   "source": [
    "* Sorted() method will sort the list, but it doesn't effect the original list \n",
    "* sort() method will sort the original list itself"
   ]
  },
  {
   "cell_type": "code",
   "execution_count": 46,
   "metadata": {},
   "outputs": [
    {
     "name": "stdout",
     "output_type": "stream",
     "text": [
      "['x', 'f', 'd', 'c', 'b', 'a', 'a']\n"
     ]
    }
   ],
   "source": [
    "basket.reverse()\n",
    "print(basket)"
   ]
  },
  {
   "cell_type": "code",
   "execution_count": 47,
   "metadata": {},
   "outputs": [
    {
     "name": "stdout",
     "output_type": "stream",
     "text": [
      "[[1, 2], [2, 4]]\n",
      "[[1, 2], [2, 4], [3, 6]]\n"
     ]
    }
   ],
   "source": [
    "a = [[1, 2], [2, 4]]\n",
    "b = a[:] \n",
    "b.append([3, 6])\n",
    "print(a)\n",
    "print(b)"
   ]
  },
  {
   "cell_type": "code",
   "execution_count": 48,
   "metadata": {},
   "outputs": [
    {
     "name": "stdout",
     "output_type": "stream",
     "text": [
      "[[1, 2, 3], [2, 4]]\n",
      "[[1, 2, 3], [2, 4]]\n"
     ]
    }
   ],
   "source": [
    "a = [[1, 2], [2, 4]]\n",
    "b = a[:]\n",
    "b[0].append(3)\n",
    "print(a)\n",
    "print(b)"
   ]
  },
  {
   "cell_type": "code",
   "execution_count": 49,
   "metadata": {},
   "outputs": [
    {
     "name": "stdout",
     "output_type": "stream",
     "text": [
      "[1, 2, 3, 4, 5, 6, 7, 8, 9]\n"
     ]
    }
   ],
   "source": [
    "list1 = list(range(1,10))\n",
    "print(list1)"
   ]
  },
  {
   "cell_type": "code",
   "execution_count": 50,
   "metadata": {},
   "outputs": [
    {
     "name": "stdout",
     "output_type": "stream",
     "text": [
      "x f d c b a a\n"
     ]
    }
   ],
   "source": [
    "new_list = ' '.join(basket)\n",
    "print(new_list)"
   ]
  },
  {
   "cell_type": "code",
   "execution_count": 53,
   "metadata": {},
   "outputs": [
    {
     "name": "stdout",
     "output_type": "stream",
     "text": [
      "['Amira', 'Carrie', 'Chu', 'Joy', 'Patty', 'Simon', 'Stanley']\n"
     ]
    }
   ],
   "source": [
    "friends = ['Simon', 'Patty', 'Joy', 'Carrie', 'Amira', 'Chu']\n",
    "\n",
    "new_friend = friends+['Stanley']\n",
    "\n",
    "new_friend.sort()\n",
    "print(new_friend)"
   ]
  },
  {
   "cell_type": "markdown",
   "metadata": {},
   "source": [
    "### List unpacking"
   ]
  },
  {
   "cell_type": "code",
   "execution_count": 55,
   "metadata": {},
   "outputs": [
    {
     "name": "stdout",
     "output_type": "stream",
     "text": [
      "1\n",
      "2\n",
      "3\n",
      "[4, 5, 6, 7, 8, 9]\n",
      "0\n"
     ]
    }
   ],
   "source": [
    "a,b,c,*d,e = [1,2,3,4,5,6,7,8,9,0]\n",
    "print(a)\n",
    "print(b)\n",
    "print(c)\n",
    "print(d)\n",
    "print(e)"
   ]
  },
  {
   "cell_type": "code",
   "execution_count": 56,
   "metadata": {},
   "outputs": [
    {
     "name": "stdout",
     "output_type": "stream",
     "text": [
      "<class 'NoneType'>\n"
     ]
    }
   ],
   "source": [
    "weapons = None\n",
    "print(type(weapons))"
   ]
  },
  {
   "cell_type": "code",
   "execution_count": 60,
   "metadata": {},
   "outputs": [
    {
     "name": "stdout",
     "output_type": "stream",
     "text": [
      "0\n",
      "1\n",
      "2\n",
      "3\n",
      "4\n"
     ]
    }
   ],
   "source": [
    "for x in range(0,5,1):\n",
    "    print(x)"
   ]
  },
  {
   "cell_type": "code",
   "execution_count": null,
   "metadata": {},
   "outputs": [],
   "source": []
  }
 ],
 "metadata": {
  "kernelspec": {
   "display_name": "Python 3",
   "language": "python",
   "name": "python3"
  },
  "language_info": {
   "codemirror_mode": {
    "name": "ipython",
    "version": 3
   },
   "file_extension": ".py",
   "mimetype": "text/x-python",
   "name": "python",
   "nbconvert_exporter": "python",
   "pygments_lexer": "ipython3",
   "version": "3.7.3"
  }
 },
 "nbformat": 4,
 "nbformat_minor": 4
}
