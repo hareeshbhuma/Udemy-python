{
 "cells": [
  {
   "cell_type": "markdown",
   "metadata": {},
   "source": [
    "### Dictionary "
   ]
  },
  {
   "cell_type": "code",
   "execution_count": 11,
   "metadata": {},
   "outputs": [
    {
     "name": "stdout",
     "output_type": "stream",
     "text": [
      "2\n",
      "{'a': [1, 2, 3], 'b': 'Hello', 'c': True, 'x': None}\n"
     ]
    }
   ],
   "source": [
    "dictionary = {\n",
    "    'a' : [1,2,3],\n",
    "    'b' : 'Hello',\n",
    "    'c' : True,\n",
    "    'x' : None\n",
    "}\n",
    "print(dictionary['a'][1])\n",
    "print(dictionary)"
   ]
  },
  {
   "cell_type": "markdown",
   "metadata": {},
   "source": [
    "* Dictionary is a unordered key-value pair"
   ]
  },
  {
   "cell_type": "code",
   "execution_count": 12,
   "metadata": {},
   "outputs": [
    {
     "data": {
      "text/plain": [
       "2"
      ]
     },
     "execution_count": 12,
     "metadata": {},
     "output_type": "execute_result"
    }
   ],
   "source": [
    "my_list = [\n",
    "    {\n",
    "    'a' : [1,2,3],\n",
    "    'b' : 'Hello',\n",
    "    'c' : True,\n",
    "    'x' : None\n",
    "},\n",
    "    {\n",
    "    'a' : [4,5,6],\n",
    "    'b' : 'Hello',\n",
    "    'c' : True,\n",
    "    'x' : None\n",
    "}\n",
    "]\n",
    "my_list[0]['a'][1]"
   ]
  },
  {
   "cell_type": "markdown",
   "metadata": {},
   "source": [
    "### Understanding Data structures"
   ]
  },
  {
   "cell_type": "markdown",
   "metadata": {},
   "source": [
    "* List is ordered and dict is unordered \n",
    "* If you want store information about a person like fname, lname, age etc... ----> use dict"
   ]
  },
  {
   "cell_type": "markdown",
   "metadata": {},
   "source": [
    "### Dictionary keys"
   ]
  },
  {
   "cell_type": "code",
   "execution_count": 19,
   "metadata": {},
   "outputs": [
    {
     "name": "stdout",
     "output_type": "stream",
     "text": [
      "{'name': 'Bhuma'}\n",
      "dict_items([('name', 'Bhuma')])\n"
     ]
    }
   ],
   "source": [
    "user1 = dict(name='Bhuma')\n",
    "print(user1)\n",
    "print(user1.items())"
   ]
  },
  {
   "cell_type": "markdown",
   "metadata": {},
   "source": [
    "* Dictionary key needs to be immutable \n",
    "* A key in a dictionary must be unique"
   ]
  },
  {
   "cell_type": "code",
   "execution_count": 23,
   "metadata": {},
   "outputs": [
    {
     "name": "stdout",
     "output_type": "stream",
     "text": [
      "None\n",
      "55\n",
      "{'basket': [1, 2, 3], 'greetings': 'Hello'}\n",
      "{'basket': [1, 2, 3], 'greetings': 'Hello', 'age': 25}\n"
     ]
    }
   ],
   "source": [
    "user = {\n",
    "    'basket' : [1,2,3],\n",
    "    'greetings' : \"Hello\"\n",
    "}\n",
    "print(user.get('age'))\n",
    "print(user.get('age',55))\n",
    "print(user)\n",
    "user.update(age = 25)\n",
    "print(user)"
   ]
  },
  {
   "cell_type": "code",
   "execution_count": 27,
   "metadata": {},
   "outputs": [
    {
     "name": "stdout",
     "output_type": "stream",
     "text": [
      "True\n",
      "False\n"
     ]
    }
   ],
   "source": [
    "user2 = user.copy()\n",
    "print('basket' in user2.keys())\n",
    "print('size' in user2)"
   ]
  },
  {
   "cell_type": "code",
   "execution_count": 30,
   "metadata": {},
   "outputs": [
    {
     "name": "stdout",
     "output_type": "stream",
     "text": [
      "dict_keys(['basket', 'greetings', 'age'])\n",
      "dict_values([[1, 2, 3], 'Hello', 25])\n",
      "dict_items([('basket', [1, 2, 3]), ('greetings', 'Hello'), ('age', 25)])\n"
     ]
    }
   ],
   "source": [
    "print(user.keys())\n",
    "print(user.values())\n",
    "print(user.items())"
   ]
  },
  {
   "cell_type": "code",
   "execution_count": 31,
   "metadata": {},
   "outputs": [
    {
     "name": "stdout",
     "output_type": "stream",
     "text": [
      "{}\n",
      "{'basket': [1, 2, 3], 'greetings': 'Hello', 'age': 25}\n"
     ]
    }
   ],
   "source": [
    "user2.clear()\n",
    "print(user2)\n",
    "print(user)"
   ]
  },
  {
   "cell_type": "code",
   "execution_count": 36,
   "metadata": {},
   "outputs": [
    {
     "name": "stdout",
     "output_type": "stream",
     "text": [
      "{'basket': [1, 2, 3], 'greetings': 'Hello', 'age': 55, 'ages': 55}\n",
      "{'basket': [1, 2, 3], 'greetings': 'Hello', 'age': 20, 'ages': 55}\n"
     ]
    }
   ],
   "source": [
    "user.update({'age':55})\n",
    "user.update({'ages':55})\n",
    "print(user)\n",
    "user.update(age=20)\n",
    "print(user)"
   ]
  },
  {
   "cell_type": "code",
   "execution_count": 46,
   "metadata": {},
   "outputs": [
    {
     "name": "stdout",
     "output_type": "stream",
     "text": [
      "dict_keys(['age', 'username', 'weapons', 'is_active', 'clean'])\n",
      "{'age': 25, 'username': 'Bhuma', 'weapons': [1, 2, 3, 4], 'is_active': True, 'clean': None, 'is_banned': True}\n"
     ]
    }
   ],
   "source": [
    "user_profile = {\n",
    "    'age'      : 25,\n",
    "    'username' : 'Bhuma',\n",
    "    'weapons'  : [1,2,3],\n",
    "    'is_active': True,\n",
    "    'clean'    : None\n",
    "}\n",
    "print(user_profile.keys())\n",
    "user_profile['weapons'].append(4)\n",
    "user_profile.update(is_banned = False)\n",
    "user_profile.update({'is_banned' : True})\n",
    "print(user_profile)"
   ]
  },
  {
   "cell_type": "code",
   "execution_count": 47,
   "metadata": {},
   "outputs": [
    {
     "name": "stdout",
     "output_type": "stream",
     "text": [
      "{'age': 25, 'username': 'Bhuma', 'weapons': [1, 2, 3, 4], 'is_active': True, 'clean': None, 'is_banned': True}\n",
      "{'age': 50, 'username': 'Hareesh', 'weapons': [1, 2, 3, 4], 'is_active': True, 'clean': None, 'is_banned': True}\n"
     ]
    }
   ],
   "source": [
    "user2 = user_profile.copy()\n",
    "user2.update({'age':50,'username':'Hareesh'})\n",
    "print(user_profile)\n",
    "print(user2)"
   ]
  },
  {
   "cell_type": "code",
   "execution_count": null,
   "metadata": {},
   "outputs": [],
   "source": []
  }
 ],
 "metadata": {
  "kernelspec": {
   "display_name": "Python 3",
   "language": "python",
   "name": "python3"
  },
  "language_info": {
   "codemirror_mode": {
    "name": "ipython",
    "version": 3
   },
   "file_extension": ".py",
   "mimetype": "text/x-python",
   "name": "python",
   "nbconvert_exporter": "python",
   "pygments_lexer": "ipython3",
   "version": "3.7.3"
  }
 },
 "nbformat": 4,
 "nbformat_minor": 4
}
